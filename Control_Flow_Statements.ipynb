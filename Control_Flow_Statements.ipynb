{
 "cells": [
  {
   "cell_type": "markdown",
   "metadata": {},
   "source": [
    "# IF Statements"
   ]
  },
  {
   "cell_type": "markdown",
   "metadata": {},
   "source": [
    "## Only IF"
   ]
  },
  {
   "cell_type": "code",
   "execution_count": 1,
   "metadata": {},
   "outputs": [
    {
     "name": "stdout",
     "output_type": "stream",
     "text": [
      "Yes\n"
     ]
    }
   ],
   "source": [
    "#IF Statement\n",
    "#if <condition>:\n",
    "#    <statement(s)>\n",
    "#\n",
    "\n",
    "if 1 > -1:\n",
    "    print(\"Yes\")\n"
   ]
  },
  {
   "cell_type": "code",
   "execution_count": 2,
   "metadata": {},
   "outputs": [
    {
     "name": "stdout",
     "output_type": "stream",
     "text": [
      "Yes\n",
      "True\n"
     ]
    }
   ],
   "source": [
    "#IF Statement\n",
    "#if <condition>:\n",
    "#    <statement(s)>\n",
    "#\n",
    "\n",
    "if 1 > -1:\n",
    "    print(\"Yes\")\n",
    "    print(\"True\")\n",
    "\n",
    "\n"
   ]
  },
  {
   "cell_type": "code",
   "execution_count": 5,
   "metadata": {},
   "outputs": [
    {
     "name": "stdout",
     "output_type": "stream",
     "text": [
      "False\n"
     ]
    }
   ],
   "source": [
    "#IF Statement\n",
    "#if <condition>:\n",
    "#    <statement(s)>\n",
    "#\n",
    "\n",
    "if 1 < -1:\n",
    "    print(\"Yes\")\n",
    "print(\"False\")\n"
   ]
  },
  {
   "cell_type": "code",
   "execution_count": 6,
   "metadata": {},
   "outputs": [
    {
     "name": "stdout",
     "output_type": "stream",
     "text": [
      "Yes\n",
      "True\n"
     ]
    }
   ],
   "source": [
    "if 1 > -1:\n",
    "    print(\"Yes\")\n",
    "print(\"True\")"
   ]
  },
  {
   "cell_type": "code",
   "execution_count": 7,
   "metadata": {},
   "outputs": [
    {
     "name": "stdout",
     "output_type": "stream",
     "text": [
      "Prior\n",
      "True\n",
      "Post\n"
     ]
    }
   ],
   "source": [
    "condition = True\n",
    "\n",
    "print(\"Prior\")\n",
    "if condition:\n",
    "    print(\"True\")\n",
    "print(\"Post\")"
   ]
  },
  {
   "cell_type": "code",
   "execution_count": 8,
   "metadata": {},
   "outputs": [
    {
     "name": "stdout",
     "output_type": "stream",
     "text": [
      "Prior\n",
      "Post\n"
     ]
    }
   ],
   "source": [
    "condition = False\n",
    "\n",
    "print(\"Prior\")\n",
    "if condition:\n",
    "    print(\"True\")\n",
    "print(\"Post\")"
   ]
  },
  {
   "cell_type": "markdown",
   "metadata": {},
   "source": [
    "## IF - ELSE"
   ]
  },
  {
   "cell_type": "code",
   "execution_count": 9,
   "metadata": {},
   "outputs": [
    {
     "name": "stdout",
     "output_type": "stream",
     "text": [
      "Prior\n",
      "True\n",
      "Post\n"
     ]
    }
   ],
   "source": [
    "#IF - ELSE Statement\n",
    "#if <condition>:\n",
    "#    <statement(s)>\n",
    "#else:\n",
    "#    <statement(s)>\n",
    "\n",
    "condition = True\n",
    "\n",
    "print(\"Prior\")\n",
    "if condition:\n",
    "    print(\"True\")\n",
    "else:\n",
    "    print(\"False\")\n",
    "print(\"Post\")"
   ]
  },
  {
   "cell_type": "markdown",
   "metadata": {},
   "source": [
    "## IF - ELSE IF - ELSE"
   ]
  },
  {
   "cell_type": "code",
   "execution_count": 15,
   "metadata": {},
   "outputs": [
    {
     "name": "stdout",
     "output_type": "stream",
     "text": [
      "Prior\n",
      "GT 8\n",
      "Post\n"
     ]
    }
   ],
   "source": [
    "#IF - ELSE IF - ELSE Statement\n",
    "#if <condition>:\n",
    "#    <statement(s)>\n",
    "#elif <condition>:\n",
    "#    <statement(s)>\n",
    "#elif <condition>:\n",
    "#    <statement(s)>\n",
    "#elif <condition>:\n",
    "#    <statement(s)>\n",
    "#.\n",
    "#.\n",
    "#.\n",
    "#else:\n",
    "#    <statement(s)>\n",
    "\n",
    "val = 8\n",
    "\n",
    "print(\"Prior\")\n",
    "if val < 5:\n",
    "    print(\"LT5\")\n",
    "elif 5 <= val < 8:\n",
    "    print(\"5-7\")\n",
    "else:\n",
    "    print(\"GT 8\")\n",
    "print(\"Post\")"
   ]
  },
  {
   "cell_type": "code",
   "execution_count": 18,
   "metadata": {},
   "outputs": [
    {
     "name": "stdout",
     "output_type": "stream",
     "text": [
      "True\n"
     ]
    }
   ],
   "source": [
    "x = print(True)"
   ]
  },
  {
   "cell_type": "code",
   "execution_count": 20,
   "metadata": {},
   "outputs": [
    {
     "data": {
      "text/plain": [
       "True"
      ]
     },
     "execution_count": 20,
     "metadata": {},
     "output_type": "execute_result"
    }
   ],
   "source": [
    "x is None"
   ]
  },
  {
   "cell_type": "code",
   "execution_count": 21,
   "metadata": {},
   "outputs": [
    {
     "name": "stdout",
     "output_type": "stream",
     "text": [
      "True\n",
      "False\n"
     ]
    }
   ],
   "source": [
    "if print(True):\n",
    "    print(\"True2\")\n",
    "else:\n",
    "    print(\"False\")\n"
   ]
  },
  {
   "cell_type": "code",
   "execution_count": 22,
   "metadata": {},
   "outputs": [
    {
     "data": {
      "text/plain": [
       "'None'"
      ]
     },
     "execution_count": 22,
     "metadata": {},
     "output_type": "execute_result"
    }
   ],
   "source": [
    "str(None)"
   ]
  },
  {
   "cell_type": "code",
   "execution_count": 31,
   "metadata": {},
   "outputs": [
    {
     "name": "stdout",
     "output_type": "stream",
     "text": [
      "Prior\n",
      "Post\n",
      "20\n"
     ]
    }
   ],
   "source": [
    "#IF - ELIF - ELSE is a statement, does not return any value\n",
    "\n",
    "val = 8\n",
    "\n",
    "print(\"Prior\")\n",
    "if val < 5:\n",
    "    x = 5*2\n",
    "elif 5 <= val < 8:\n",
    "    x = 5*3\n",
    "else:\n",
    "    x = 5*4\n",
    "print(\"Post\")\n",
    "print(x)"
   ]
  },
  {
   "cell_type": "markdown",
   "metadata": {},
   "source": [
    "## Ternary operator IF"
   ]
  },
  {
   "cell_type": "code",
   "execution_count": 32,
   "metadata": {},
   "outputs": [
    {
     "name": "stdout",
     "output_type": "stream",
     "text": [
      "20\n"
     ]
    }
   ],
   "source": [
    "#Ternary If Statement\n",
    "#<true expression> if <condition> else <false expression>\n",
    "#returns value of <true expression> if condition is true else returns <false expression>\n",
    "#This way of writing is an IF expression which returns a value\n",
    "#It is used only in cases where we want to assign a single value to any variable\n",
    "#It is usually not used as it is a cumbersome way of writing and needs to be in single line. Works well for small conditions & expressions\n",
    "\n",
    "y = 5+7 if 2 > 3 else 10*2\n",
    "print(y)"
   ]
  },
  {
   "cell_type": "code",
   "execution_count": null,
   "metadata": {},
   "outputs": [],
   "source": []
  }
 ],
 "metadata": {
  "kernelspec": {
   "display_name": "Python 3",
   "language": "python",
   "name": "python3"
  },
  "language_info": {
   "codemirror_mode": {
    "name": "ipython",
    "version": 3
   },
   "file_extension": ".py",
   "mimetype": "text/x-python",
   "name": "python",
   "nbconvert_exporter": "python",
   "pygments_lexer": "ipython3",
   "version": "3.7.6"
  }
 },
 "nbformat": 4,
 "nbformat_minor": 4
}
